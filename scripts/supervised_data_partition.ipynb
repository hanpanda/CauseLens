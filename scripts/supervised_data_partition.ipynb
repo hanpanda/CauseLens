{
 "cells": [
  {
   "cell_type": "code",
   "execution_count": 5,
   "metadata": {},
   "outputs": [],
   "source": [
    "import json\n",
    "import os\n",
    "import random\n",
    "from collections import defaultdict\n",
    "\n",
    "import pandas as pd\n",
    "import numpy as np\n",
    "\n",
    "random.seed(123)"
   ]
  },
  {
   "cell_type": "code",
   "execution_count": 6,
   "metadata": {},
   "outputs": [],
   "source": [
    "# train, test\n",
    "train_ratio, test_ratio = [0.6, 0.4]\n",
    "assert train_ratio + test_ratio == 1"
   ]
  },
  {
   "cell_type": "code",
   "execution_count": 7,
   "metadata": {},
   "outputs": [
    {
     "name": "stdout",
     "output_type": "stream",
     "text": [
      "train: 120, 0.588. test: 84, 0.412.\n"
     ]
    }
   ],
   "source": [
    "# aiops_2022\n",
    "DATA_DIR = '/root/lqh/multimodal-RCA/datasets/aiops_2022'\n",
    "TARGET_DIR = '/root/lqh/multimodal-RCA/datasets/aiops_2022'\n",
    "DATES = [\n",
    "    \"2022-03-20\", \"2022-03-21\", \"2022-03-22\", \"2022-03-24\", \"2022-03-26\", \"2022-03-28\", \"2022-03-29\", \"2022-03-30\",\n",
    "    \"2022-03-31\", \"2022-04-01\"\n",
    "]\n",
    "\n",
    "dfs = []\n",
    "for date in sorted(DATES):\n",
    "    df = pd.read_csv(os.path.join(DATA_DIR, f'groundtruth_csv/groundtruth-k8s-1-{date}.csv'))\n",
    "    df = df[(df['level'] != 'node') & (df['failure_type'] != 'k8s容器网络资源包重复发送')]\n",
    "    dfs.append(df)\n",
    "label_df = pd.concat(dfs)\n",
    "\n",
    "faults_per_type = defaultdict(list)\n",
    "for _, row in label_df.iterrows():\n",
    "    timestamp, cmdb_id, fault_type = row['timestamp'], row['cmdb_id'], row['failure_type']\n",
    "    faults_per_type[(row['failure_type'])].append({\n",
    "        'timestamp': timestamp // 60 * 60,\n",
    "        'cmdb_id': cmdb_id,\n",
    "        'fault_type': fault_type\n",
    "    })\n",
    "\n",
    "train_data = []\n",
    "test_data = []\n",
    "for fault_type, faults in faults_per_type.items():\n",
    "    random.shuffle(faults)\n",
    "    train_num = int(len(faults) * train_ratio)\n",
    "    train_data.extend(faults[:train_num])\n",
    "    test_data.extend(faults[train_num:])\n",
    "data = {'train': train_data, 'test': test_data}\n",
    "num_faults = len(train_data) + len(test_data)\n",
    "print(f'train: {len(train_data)}, {len(train_data) / num_faults:.3f}. test: {len(test_data)}, {len(test_data) / num_faults:.3f}.')\n",
    "\n",
    "with open(os.path.join(TARGET_DIR, 'aiops_2022_split.json'), 'w') as fp:\n",
    "    json.dump(data, fp, indent=2)"
   ]
  },
  {
   "cell_type": "code",
   "execution_count": 8,
   "metadata": {},
   "outputs": [
    {
     "name": "stdout",
     "output_type": "stream",
     "text": [
      "train: 45, 0.577. test: 33, 0.423.\n"
     ]
    }
   ],
   "source": [
    "# TrainTicket_2024\n",
    "def pod_to_service(pod):\n",
    "    return '-'.join(pod.split('-')[:-2])\n",
    "\n",
    "DATA_DIR = '/root/lqh/multimodal-RCA/datasets/TrainTicket_2024'\n",
    "TARGET_DIR = '/root/lqh/multimodal-RCA/datasets/TrainTicket_2024'\n",
    "DATES = ['2024-04-05', '2024-04-06', '2024-04-25']\n",
    "\n",
    "faults_per_type = defaultdict(list)\n",
    "for date in DATES:\n",
    "    with open(os.path.join(DATA_DIR, f'{date}-fault_list.json'), 'r') as fp:\n",
    "        tmp = json.load(fp)\n",
    "    for fault in tmp:\n",
    "        faults_per_type[(fault['inject_type'])].append({\n",
    "            'timestamp': fault['inject_timestamp'],\n",
    "            'cmdb_id': pod_to_service(fault['inject_pod']),\n",
    "            'fault_type': fault['inject_type']\n",
    "        })\n",
    "\n",
    "train_data = []\n",
    "test_data = []\n",
    "for fault_type, faults in faults_per_type.items():\n",
    "    random.shuffle(faults)\n",
    "    train_num = int(len(faults) * train_ratio)\n",
    "    train_data.extend(faults[:train_num])\n",
    "    test_data.extend(faults[train_num:])\n",
    "data = {'train': train_data, 'test': test_data}\n",
    "num_faults = len(train_data) + len(test_data)\n",
    "print(f'train: {len(train_data)}, {len(train_data) / num_faults:.3f}. test: {len(test_data)}, {len(test_data) / num_faults:.3f}.')\n",
    "\n",
    "with open(os.path.join(TARGET_DIR, 'trainticket_2024_split.json'), 'w') as fp:\n",
    "    json.dump(data, fp, indent=2)"
   ]
  }
 ],
 "metadata": {
  "kernelspec": {
   "display_name": "lqh-causelens",
   "language": "python",
   "name": "python3"
  },
  "language_info": {
   "codemirror_mode": {
    "name": "ipython",
    "version": 3
   },
   "file_extension": ".py",
   "mimetype": "text/x-python",
   "name": "python",
   "nbconvert_exporter": "python",
   "pygments_lexer": "ipython3",
   "version": "3.8.20"
  }
 },
 "nbformat": 4,
 "nbformat_minor": 2
}
